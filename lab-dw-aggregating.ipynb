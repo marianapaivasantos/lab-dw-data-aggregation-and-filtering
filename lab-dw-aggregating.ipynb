{
 "cells": [
  {
   "cell_type": "markdown",
   "id": "31969215-2a90-4d8b-ac36-646a7ae13744",
   "metadata": {
    "id": "31969215-2a90-4d8b-ac36-646a7ae13744"
   },
   "source": [
    "# Lab | Data Aggregation and Filtering"
   ]
  },
  {
   "cell_type": "markdown",
   "id": "a8f08a52-bec0-439b-99cc-11d3809d8b5d",
   "metadata": {
    "id": "a8f08a52-bec0-439b-99cc-11d3809d8b5d"
   },
   "source": [
    "In this challenge, we will continue to work with customer data from an insurance company. We will use the dataset called marketing_customer_analysis.csv, which can be found at the following link:\n",
    "\n",
    "https://raw.githubusercontent.com/data-bootcamp-v4/data/main/marketing_customer_analysis.csv\n",
    "\n",
    "This dataset contains information such as customer demographics, policy details, vehicle information, and the customer's response to the last marketing campaign. Our goal is to explore and analyze this data by first performing data cleaning, formatting, and structuring."
   ]
  },
  {
   "cell_type": "markdown",
   "id": "9c98ddc5-b041-4c94-ada1-4dfee5c98e50",
   "metadata": {
    "id": "9c98ddc5-b041-4c94-ada1-4dfee5c98e50"
   },
   "source": [
    "1. Create a new DataFrame that only includes customers who have a total_claim_amount greater than $1,000 and have a response of \"Yes\" to the last marketing campaign."
   ]
  },
  {
   "cell_type": "code",
   "execution_count": 1,
   "id": "d7108f58",
   "metadata": {},
   "outputs": [
    {
     "data": {
      "text/html": [
       "<div>\n",
       "<style scoped>\n",
       "    .dataframe tbody tr th:only-of-type {\n",
       "        vertical-align: middle;\n",
       "    }\n",
       "\n",
       "    .dataframe tbody tr th {\n",
       "        vertical-align: top;\n",
       "    }\n",
       "\n",
       "    .dataframe thead th {\n",
       "        text-align: right;\n",
       "    }\n",
       "</style>\n",
       "<table border=\"1\" class=\"dataframe\">\n",
       "  <thead>\n",
       "    <tr style=\"text-align: right;\">\n",
       "      <th></th>\n",
       "      <th>Unnamed: 0</th>\n",
       "      <th>Customer</th>\n",
       "      <th>State</th>\n",
       "      <th>Customer Lifetime Value</th>\n",
       "      <th>Response</th>\n",
       "      <th>Coverage</th>\n",
       "      <th>Education</th>\n",
       "      <th>Effective To Date</th>\n",
       "      <th>EmploymentStatus</th>\n",
       "      <th>Gender</th>\n",
       "      <th>...</th>\n",
       "      <th>Number of Open Complaints</th>\n",
       "      <th>Number of Policies</th>\n",
       "      <th>Policy Type</th>\n",
       "      <th>Policy</th>\n",
       "      <th>Renew Offer Type</th>\n",
       "      <th>Sales Channel</th>\n",
       "      <th>Total Claim Amount</th>\n",
       "      <th>Vehicle Class</th>\n",
       "      <th>Vehicle Size</th>\n",
       "      <th>Vehicle Type</th>\n",
       "    </tr>\n",
       "  </thead>\n",
       "  <tbody>\n",
       "    <tr>\n",
       "      <th>0</th>\n",
       "      <td>0</td>\n",
       "      <td>DK49336</td>\n",
       "      <td>Arizona</td>\n",
       "      <td>4809.216960</td>\n",
       "      <td>No</td>\n",
       "      <td>Basic</td>\n",
       "      <td>College</td>\n",
       "      <td>2/18/11</td>\n",
       "      <td>Employed</td>\n",
       "      <td>M</td>\n",
       "      <td>...</td>\n",
       "      <td>0.0</td>\n",
       "      <td>9</td>\n",
       "      <td>Corporate Auto</td>\n",
       "      <td>Corporate L3</td>\n",
       "      <td>Offer3</td>\n",
       "      <td>Agent</td>\n",
       "      <td>292.800000</td>\n",
       "      <td>Four-Door Car</td>\n",
       "      <td>Medsize</td>\n",
       "      <td>NaN</td>\n",
       "    </tr>\n",
       "    <tr>\n",
       "      <th>1</th>\n",
       "      <td>1</td>\n",
       "      <td>KX64629</td>\n",
       "      <td>California</td>\n",
       "      <td>2228.525238</td>\n",
       "      <td>No</td>\n",
       "      <td>Basic</td>\n",
       "      <td>College</td>\n",
       "      <td>1/18/11</td>\n",
       "      <td>Unemployed</td>\n",
       "      <td>F</td>\n",
       "      <td>...</td>\n",
       "      <td>0.0</td>\n",
       "      <td>1</td>\n",
       "      <td>Personal Auto</td>\n",
       "      <td>Personal L3</td>\n",
       "      <td>Offer4</td>\n",
       "      <td>Call Center</td>\n",
       "      <td>744.924331</td>\n",
       "      <td>Four-Door Car</td>\n",
       "      <td>Medsize</td>\n",
       "      <td>NaN</td>\n",
       "    </tr>\n",
       "    <tr>\n",
       "      <th>2</th>\n",
       "      <td>2</td>\n",
       "      <td>LZ68649</td>\n",
       "      <td>Washington</td>\n",
       "      <td>14947.917300</td>\n",
       "      <td>No</td>\n",
       "      <td>Basic</td>\n",
       "      <td>Bachelor</td>\n",
       "      <td>2/10/11</td>\n",
       "      <td>Employed</td>\n",
       "      <td>M</td>\n",
       "      <td>...</td>\n",
       "      <td>0.0</td>\n",
       "      <td>2</td>\n",
       "      <td>Personal Auto</td>\n",
       "      <td>Personal L3</td>\n",
       "      <td>Offer3</td>\n",
       "      <td>Call Center</td>\n",
       "      <td>480.000000</td>\n",
       "      <td>SUV</td>\n",
       "      <td>Medsize</td>\n",
       "      <td>A</td>\n",
       "    </tr>\n",
       "    <tr>\n",
       "      <th>3</th>\n",
       "      <td>3</td>\n",
       "      <td>XL78013</td>\n",
       "      <td>Oregon</td>\n",
       "      <td>22332.439460</td>\n",
       "      <td>Yes</td>\n",
       "      <td>Extended</td>\n",
       "      <td>College</td>\n",
       "      <td>1/11/11</td>\n",
       "      <td>Employed</td>\n",
       "      <td>M</td>\n",
       "      <td>...</td>\n",
       "      <td>0.0</td>\n",
       "      <td>2</td>\n",
       "      <td>Corporate Auto</td>\n",
       "      <td>Corporate L3</td>\n",
       "      <td>Offer2</td>\n",
       "      <td>Branch</td>\n",
       "      <td>484.013411</td>\n",
       "      <td>Four-Door Car</td>\n",
       "      <td>Medsize</td>\n",
       "      <td>A</td>\n",
       "    </tr>\n",
       "    <tr>\n",
       "      <th>4</th>\n",
       "      <td>4</td>\n",
       "      <td>QA50777</td>\n",
       "      <td>Oregon</td>\n",
       "      <td>9025.067525</td>\n",
       "      <td>No</td>\n",
       "      <td>Premium</td>\n",
       "      <td>Bachelor</td>\n",
       "      <td>1/17/11</td>\n",
       "      <td>Medical Leave</td>\n",
       "      <td>F</td>\n",
       "      <td>...</td>\n",
       "      <td>NaN</td>\n",
       "      <td>7</td>\n",
       "      <td>Personal Auto</td>\n",
       "      <td>Personal L2</td>\n",
       "      <td>Offer1</td>\n",
       "      <td>Branch</td>\n",
       "      <td>707.925645</td>\n",
       "      <td>Four-Door Car</td>\n",
       "      <td>Medsize</td>\n",
       "      <td>NaN</td>\n",
       "    </tr>\n",
       "  </tbody>\n",
       "</table>\n",
       "<p>5 rows × 26 columns</p>\n",
       "</div>"
      ],
      "text/plain": [
       "   Unnamed: 0 Customer       State  Customer Lifetime Value Response  \\\n",
       "0           0  DK49336     Arizona              4809.216960       No   \n",
       "1           1  KX64629  California              2228.525238       No   \n",
       "2           2  LZ68649  Washington             14947.917300       No   \n",
       "3           3  XL78013      Oregon             22332.439460      Yes   \n",
       "4           4  QA50777      Oregon              9025.067525       No   \n",
       "\n",
       "   Coverage Education Effective To Date EmploymentStatus Gender  ...  \\\n",
       "0     Basic   College           2/18/11         Employed      M  ...   \n",
       "1     Basic   College           1/18/11       Unemployed      F  ...   \n",
       "2     Basic  Bachelor           2/10/11         Employed      M  ...   \n",
       "3  Extended   College           1/11/11         Employed      M  ...   \n",
       "4   Premium  Bachelor           1/17/11    Medical Leave      F  ...   \n",
       "\n",
       "   Number of Open Complaints Number of Policies     Policy Type        Policy  \\\n",
       "0                        0.0                  9  Corporate Auto  Corporate L3   \n",
       "1                        0.0                  1   Personal Auto   Personal L3   \n",
       "2                        0.0                  2   Personal Auto   Personal L3   \n",
       "3                        0.0                  2  Corporate Auto  Corporate L3   \n",
       "4                        NaN                  7   Personal Auto   Personal L2   \n",
       "\n",
       "   Renew Offer Type  Sales Channel  Total Claim Amount  Vehicle Class  \\\n",
       "0            Offer3          Agent          292.800000  Four-Door Car   \n",
       "1            Offer4    Call Center          744.924331  Four-Door Car   \n",
       "2            Offer3    Call Center          480.000000            SUV   \n",
       "3            Offer2         Branch          484.013411  Four-Door Car   \n",
       "4            Offer1         Branch          707.925645  Four-Door Car   \n",
       "\n",
       "  Vehicle Size Vehicle Type  \n",
       "0      Medsize          NaN  \n",
       "1      Medsize          NaN  \n",
       "2      Medsize            A  \n",
       "3      Medsize            A  \n",
       "4      Medsize          NaN  \n",
       "\n",
       "[5 rows x 26 columns]"
      ]
     },
     "execution_count": 1,
     "metadata": {},
     "output_type": "execute_result"
    }
   ],
   "source": [
    "import pandas as pd\n",
    "\n",
    "# Load the dataset\n",
    "url = 'https://raw.githubusercontent.com/data-bootcamp-v4/data/main/marketing_customer_analysis.csv'\n",
    "df = pd.read_csv(url)\n",
    "\n",
    "# Display the first few rows of the DataFrame\n",
    "df.head()"
   ]
  },
  {
   "cell_type": "code",
   "execution_count": 2,
   "id": "4c4136a3",
   "metadata": {},
   "outputs": [],
   "source": [
    "df.drop(\"Unnamed: 0\", axis=1, inplace=True)"
   ]
  },
  {
   "cell_type": "code",
   "execution_count": 14,
   "id": "870b6698",
   "metadata": {},
   "outputs": [
    {
     "data": {
      "text/plain": [
       "0"
      ]
     },
     "execution_count": 14,
     "metadata": {},
     "output_type": "execute_result"
    }
   ],
   "source": [
    "df['Total Claim Amount'].isnull().sum()"
   ]
  },
  {
   "cell_type": "code",
   "execution_count": 16,
   "id": "40258577",
   "metadata": {},
   "outputs": [],
   "source": [
    "df['Total Claim Amount'] = pd.to_numeric(df['Total Claim Amount'])"
   ]
  },
  {
   "cell_type": "code",
   "execution_count": 26,
   "id": "542c1c83",
   "metadata": {},
   "outputs": [
    {
     "name": "stdout",
     "output_type": "stream",
     "text": [
      "      Customer       State  Customer Lifetime Value Response  Coverage  \\\n",
      "189    OK31456  California             11009.130490      Yes   Premium   \n",
      "236    YJ16163      Oregon             11009.130490      Yes   Premium   \n",
      "419    GW43195      Oregon             25807.063000      Yes  Extended   \n",
      "442    IP94270     Arizona             13736.132500      Yes   Premium   \n",
      "587    FJ28407  California              5619.689084      Yes   Premium   \n",
      "...        ...         ...                      ...      ...       ...   \n",
      "10351  FN44127      Oregon              3508.569533      Yes  Extended   \n",
      "10373  XZ64172      Oregon             10963.957230      Yes   Premium   \n",
      "10487  IX60941      Oregon              3508.569533      Yes  Extended   \n",
      "10565  QO62792      Oregon              7840.165778      Yes  Extended   \n",
      "10708  CK39096      Oregon              5619.689084      Yes   Premium   \n",
      "\n",
      "                  Education Effective To Date EmploymentStatus Gender  Income  \\\n",
      "189                Bachelor           1/24/11         Employed      F   51643   \n",
      "236                Bachelor           1/24/11         Employed      F   51643   \n",
      "419                 College           2/13/11         Employed      F   71210   \n",
      "442                  Master           2/13/11         Disabled      F   16181   \n",
      "587    High School or Below           1/26/11       Unemployed      M       0   \n",
      "...                     ...               ...              ...    ...     ...   \n",
      "10351               College            1/5/11    Medical Leave      M   20978   \n",
      "10373  High School or Below            2/8/11         Employed      M   55687   \n",
      "10487               College            1/5/11    Medical Leave      M   20978   \n",
      "10565               College           1/14/11         Employed      M   58414   \n",
      "10708  High School or Below           1/26/11       Unemployed      M       0   \n",
      "\n",
      "       ... Number of Open Complaints Number of Policies     Policy Type  \\\n",
      "189    ...                       0.0                  1  Corporate Auto   \n",
      "236    ...                       0.0                  1    Special Auto   \n",
      "419    ...                       1.0                  2   Personal Auto   \n",
      "442    ...                       0.0                  8   Personal Auto   \n",
      "587    ...                       0.0                  1   Personal Auto   \n",
      "...    ...                       ...                ...             ...   \n",
      "10351  ...                       1.0                  1   Personal Auto   \n",
      "10373  ...                       0.0                  1  Corporate Auto   \n",
      "10487  ...                       1.0                  1   Personal Auto   \n",
      "10565  ...                       2.0                  1   Personal Auto   \n",
      "10708  ...                       0.0                  1   Personal Auto   \n",
      "\n",
      "             Policy  Renew Offer Type  Sales Channel  Total Claim Amount  \\\n",
      "189    Corporate L3            Offer2          Agent         1358.400000   \n",
      "236      Special L3            Offer2          Agent         1358.400000   \n",
      "419     Personal L2            Offer1         Branch         1027.200000   \n",
      "442     Personal L2            Offer1            Web         1261.319869   \n",
      "587     Personal L1            Offer2            Web         1027.000029   \n",
      "...             ...               ...            ...                 ...   \n",
      "10351   Personal L2            Offer2         Branch         1176.278800   \n",
      "10373  Corporate L2            Offer1          Agent         1324.800000   \n",
      "10487   Personal L3            Offer2         Branch         1176.278800   \n",
      "10565   Personal L3            Offer2          Agent         1008.000000   \n",
      "10708   Personal L3            Offer2            Web         1027.000029   \n",
      "\n",
      "       Vehicle Class Vehicle Size Vehicle Type  \n",
      "189       Luxury Car      Medsize          NaN  \n",
      "236       Luxury Car      Medsize            A  \n",
      "419       Luxury Car        Small            A  \n",
      "442              SUV      Medsize            A  \n",
      "587              SUV      Medsize            A  \n",
      "...              ...          ...          ...  \n",
      "10351  Four-Door Car        Small          NaN  \n",
      "10373     Luxury SUV      Medsize          NaN  \n",
      "10487  Four-Door Car        Small          NaN  \n",
      "10565            NaN          NaN          NaN  \n",
      "10708            SUV      Medsize            A  \n",
      "\n",
      "[67 rows x 25 columns]\n"
     ]
    }
   ],
   "source": [
    "filtered_df = df[df['Total Claim Amount'] > 1000]\n",
    "\n",
    "filtered_df = filtered_df[filtered_df['Response'] == 'Yes']\n",
    "\n",
    "new_df = filtered_df.copy()\n",
    "\n",
    "print(new_df)"
   ]
  },
  {
   "cell_type": "markdown",
   "id": "b9be383e-5165-436e-80c8-57d4c757c8c3",
   "metadata": {
    "id": "b9be383e-5165-436e-80c8-57d4c757c8c3"
   },
   "source": [
    "2. Using the original Dataframe, analyze the average total_claim_amount by each policy type and gender for customers who have responded \"Yes\" to the last marketing campaign. Write your conclusions."
   ]
  },
  {
   "cell_type": "code",
   "execution_count": 28,
   "id": "15803ede",
   "metadata": {},
   "outputs": [
    {
     "name": "stdout",
     "output_type": "stream",
     "text": [
      "      Customer       State  Customer Lifetime Value Response  Coverage  \\\n",
      "3      XL78013      Oregon             22332.439460      Yes  Extended   \n",
      "8      FM55990  California              5989.773931      Yes   Premium   \n",
      "15     CW49887  California              4626.801093      Yes     Basic   \n",
      "19     NJ54277  California              3746.751625      Yes  Extended   \n",
      "27     MQ68407      Oregon              4376.363592      Yes   Premium   \n",
      "...        ...         ...                      ...      ...       ...   \n",
      "10844  FM31768     Arizona              5979.724161      Yes  Extended   \n",
      "10852  KZ80424  Washington              8382.478392      Yes     Basic   \n",
      "10872  XT67997  California              5979.724161      Yes  Extended   \n",
      "10887  BY78730      Oregon              8879.790017      Yes     Basic   \n",
      "10897  MM70762     Arizona              9075.768214      Yes     Basic   \n",
      "\n",
      "                  Education Effective To Date EmploymentStatus Gender  Income  \\\n",
      "3                   College           1/11/11         Employed      M   49078   \n",
      "8                   College           1/19/11         Employed      M   66839   \n",
      "15                   Master           1/16/11         Employed      F   79487   \n",
      "19                  College           2/26/11         Employed      F   41479   \n",
      "27                 Bachelor           2/28/11         Employed      F   63774   \n",
      "...                     ...               ...              ...    ...     ...   \n",
      "10844  High School or Below            2/7/11         Employed      F   57693   \n",
      "10852              Bachelor           1/27/11         Employed      M   25998   \n",
      "10872  High School or Below            2/7/11         Employed      F   57693   \n",
      "10887  High School or Below            2/3/11         Employed      F   52583   \n",
      "10897                Master           1/26/11         Employed      M   37722   \n",
      "\n",
      "       ... Number of Open Complaints Number of Policies     Policy Type  \\\n",
      "3      ...                       0.0                  2  Corporate Auto   \n",
      "8      ...                       0.0                  1   Personal Auto   \n",
      "15     ...                       0.0                  1    Special Auto   \n",
      "19     ...                       1.0                  1   Personal Auto   \n",
      "27     ...                       0.0                  1   Personal Auto   \n",
      "...    ...                       ...                ...             ...   \n",
      "10844  ...                       0.0                  3   Personal Auto   \n",
      "10852  ...                       0.0                  2   Personal Auto   \n",
      "10872  ...                       0.0                  3   Personal Auto   \n",
      "10887  ...                       0.0                  7    Special Auto   \n",
      "10897  ...                       0.0                  8   Personal Auto   \n",
      "\n",
      "             Policy  Renew Offer Type  Sales Channel  Total Claim Amount  \\\n",
      "3      Corporate L3            Offer2         Branch          484.013411   \n",
      "8       Personal L1            Offer2         Branch          739.200000   \n",
      "15       Special L1            Offer2         Branch          547.200000   \n",
      "19      Personal L2            Offer2    Call Center           19.575683   \n",
      "27      Personal L3            Offer2          Agent           60.036683   \n",
      "...             ...               ...            ...                 ...   \n",
      "10844   Personal L1            Offer2          Agent          547.200000   \n",
      "10852   Personal L2            Offer2    Call Center          791.878042   \n",
      "10872   Personal L3            Offer2          Agent          547.200000   \n",
      "10887    Special L2            Offer1          Agent          528.200860   \n",
      "10897   Personal L1            Offer1          Agent          158.077504   \n",
      "\n",
      "       Vehicle Class Vehicle Size Vehicle Type  \n",
      "3      Four-Door Car      Medsize            A  \n",
      "8         Sports Car      Medsize          NaN  \n",
      "15               SUV      Medsize          NaN  \n",
      "19      Two-Door Car        Large            A  \n",
      "27     Four-Door Car      Medsize          NaN  \n",
      "...              ...          ...          ...  \n",
      "10844  Four-Door Car      Medsize          NaN  \n",
      "10852            NaN          NaN            A  \n",
      "10872  Four-Door Car      Medsize          NaN  \n",
      "10887            SUV        Small            A  \n",
      "10897     Sports Car      Medsize            A  \n",
      "\n",
      "[1466 rows x 25 columns]\n"
     ]
    }
   ],
   "source": [
    "filtered_df1 = df[df['Response'] == 'Yes']\n",
    "print(filtered_df1)"
   ]
  },
  {
   "cell_type": "code",
   "execution_count": 38,
   "id": "5219dfd0",
   "metadata": {},
   "outputs": [
    {
     "name": "stdout",
     "output_type": "stream",
     "text": [
      "The mean Total Claim Amount for the Policy Type Corporate Auto was: 429.667\n",
      "The mean Total Claim Amount for the Policy Type Personal Auto was: 436.074\n",
      "The mean Total Claim Amount for the Policy Type Special Auto was: 440.747\n"
     ]
    }
   ],
   "source": [
    "for x in df[\"Response\"].unique():\n",
    "    if x == 'Yes':\n",
    "        for y in df[\"Policy Type\"].unique():\n",
    "            m = df[df[\"Policy Type\"]== y]['Total Claim Amount'].mean()\n",
    "            print(f\"The mean Total Claim Amount for the Policy Type {y} was: {round(m,3)}\")"
   ]
  },
  {
   "cell_type": "code",
   "execution_count": 39,
   "id": "d560c0b4",
   "metadata": {},
   "outputs": [
    {
     "name": "stdout",
     "output_type": "stream",
     "text": [
      "The mean Total Claim Amount for the Gender M was: 458.915\n",
      "The mean Total Claim Amount for the Gender F was: 411.88\n"
     ]
    }
   ],
   "source": [
    "for z in df[\"Response\"].unique():\n",
    "    if z == 'Yes':\n",
    "        for i in df[\"Gender\"].unique():\n",
    "            m1 = df[df[\"Gender\"]== i]['Total Claim Amount'].mean()\n",
    "            print(f\"The mean Total Claim Amount for the Gender {i} was: {round(m1,3)}\")"
   ]
  },
  {
   "cell_type": "code",
   "execution_count": null,
   "id": "f5cff822",
   "metadata": {},
   "outputs": [],
   "source": [
    "# The highest Total Claim Amount, in average, is for the Special Auto Policy Type, and for the gender male"
   ]
  },
  {
   "cell_type": "markdown",
   "id": "7050f4ac-53c5-4193-a3c0-8699b87196f0",
   "metadata": {
    "id": "7050f4ac-53c5-4193-a3c0-8699b87196f0"
   },
   "source": [
    "3. Analyze the total number of customers who have policies in each state, and then filter the results to only include states where there are more than 500 customers."
   ]
  },
  {
   "cell_type": "code",
   "execution_count": 47,
   "id": "fc3fc695",
   "metadata": {},
   "outputs": [
    {
     "name": "stdout",
     "output_type": "stream",
     "text": [
      "The total number of customers who have policies in State Arizona is: 1937\n",
      "The total number of customers who have policies in State California is: 3552\n",
      "The total number of customers who have policies in State Washington is: 888\n",
      "The total number of customers who have policies in State Oregon is: 2909\n",
      "The total number of customers who have policies in State Nevada is: 993\n"
     ]
    }
   ],
   "source": [
    "for s in df[\"State\"].unique():\n",
    "    c = df[df[\"State\"]== s]['Customer'].count()\n",
    "    if c > 500:\n",
    "        print(f\"The total number of customers who have policies in State {s} is: {c}\")"
   ]
  },
  {
   "cell_type": "markdown",
   "id": "b60a4443-a1a7-4bbf-b78e-9ccdf9895e0d",
   "metadata": {
    "id": "b60a4443-a1a7-4bbf-b78e-9ccdf9895e0d"
   },
   "source": [
    "4. Find the maximum, minimum, and median customer lifetime value by education level and gender. Write your conclusions."
   ]
  },
  {
   "cell_type": "code",
   "execution_count": 54,
   "id": "37d8e6b3",
   "metadata": {},
   "outputs": [
    {
     "data": {
      "text/html": [
       "<div>\n",
       "<style scoped>\n",
       "    .dataframe tbody tr th:only-of-type {\n",
       "        vertical-align: middle;\n",
       "    }\n",
       "\n",
       "    .dataframe tbody tr th {\n",
       "        vertical-align: top;\n",
       "    }\n",
       "\n",
       "    .dataframe thead th {\n",
       "        text-align: right;\n",
       "    }\n",
       "</style>\n",
       "<table border=\"1\" class=\"dataframe\">\n",
       "  <thead>\n",
       "    <tr style=\"text-align: right;\">\n",
       "      <th></th>\n",
       "      <th></th>\n",
       "      <th>max</th>\n",
       "      <th>min</th>\n",
       "      <th>median</th>\n",
       "    </tr>\n",
       "    <tr>\n",
       "      <th>Education</th>\n",
       "      <th>Gender</th>\n",
       "      <th></th>\n",
       "      <th></th>\n",
       "      <th></th>\n",
       "    </tr>\n",
       "  </thead>\n",
       "  <tbody>\n",
       "    <tr>\n",
       "      <th rowspan=\"2\" valign=\"top\">Bachelor</th>\n",
       "      <th>F</th>\n",
       "      <td>73225.95652</td>\n",
       "      <td>1904.000852</td>\n",
       "      <td>5640.505303</td>\n",
       "    </tr>\n",
       "    <tr>\n",
       "      <th>M</th>\n",
       "      <td>67907.27050</td>\n",
       "      <td>1898.007675</td>\n",
       "      <td>5548.031892</td>\n",
       "    </tr>\n",
       "    <tr>\n",
       "      <th rowspan=\"2\" valign=\"top\">College</th>\n",
       "      <th>F</th>\n",
       "      <td>61850.18803</td>\n",
       "      <td>1898.683686</td>\n",
       "      <td>5623.611187</td>\n",
       "    </tr>\n",
       "    <tr>\n",
       "      <th>M</th>\n",
       "      <td>61134.68307</td>\n",
       "      <td>1918.119700</td>\n",
       "      <td>6005.847375</td>\n",
       "    </tr>\n",
       "    <tr>\n",
       "      <th rowspan=\"2\" valign=\"top\">Doctor</th>\n",
       "      <th>F</th>\n",
       "      <td>44856.11397</td>\n",
       "      <td>2395.570000</td>\n",
       "      <td>5332.462694</td>\n",
       "    </tr>\n",
       "    <tr>\n",
       "      <th>M</th>\n",
       "      <td>32677.34284</td>\n",
       "      <td>2267.604038</td>\n",
       "      <td>5577.669457</td>\n",
       "    </tr>\n",
       "    <tr>\n",
       "      <th rowspan=\"2\" valign=\"top\">High School or Below</th>\n",
       "      <th>F</th>\n",
       "      <td>55277.44589</td>\n",
       "      <td>2144.921535</td>\n",
       "      <td>6039.553187</td>\n",
       "    </tr>\n",
       "    <tr>\n",
       "      <th>M</th>\n",
       "      <td>83325.38119</td>\n",
       "      <td>1940.981221</td>\n",
       "      <td>6286.731006</td>\n",
       "    </tr>\n",
       "    <tr>\n",
       "      <th rowspan=\"2\" valign=\"top\">Master</th>\n",
       "      <th>F</th>\n",
       "      <td>51016.06704</td>\n",
       "      <td>2417.777032</td>\n",
       "      <td>5729.855012</td>\n",
       "    </tr>\n",
       "    <tr>\n",
       "      <th>M</th>\n",
       "      <td>50568.25912</td>\n",
       "      <td>2272.307310</td>\n",
       "      <td>5579.099207</td>\n",
       "    </tr>\n",
       "  </tbody>\n",
       "</table>\n",
       "</div>"
      ],
      "text/plain": [
       "                                     max          min       median\n",
       "Education            Gender                                       \n",
       "Bachelor             F       73225.95652  1904.000852  5640.505303\n",
       "                     M       67907.27050  1898.007675  5548.031892\n",
       "College              F       61850.18803  1898.683686  5623.611187\n",
       "                     M       61134.68307  1918.119700  6005.847375\n",
       "Doctor               F       44856.11397  2395.570000  5332.462694\n",
       "                     M       32677.34284  2267.604038  5577.669457\n",
       "High School or Below F       55277.44589  2144.921535  6039.553187\n",
       "                     M       83325.38119  1940.981221  6286.731006\n",
       "Master               F       51016.06704  2417.777032  5729.855012\n",
       "                     M       50568.25912  2272.307310  5579.099207"
      ]
     },
     "execution_count": 54,
     "metadata": {},
     "output_type": "execute_result"
    }
   ],
   "source": [
    "df.groupby(['Education', 'Gender'])['Customer Lifetime Value'].agg(['max', 'min', 'median'])"
   ]
  },
  {
   "cell_type": "code",
   "execution_count": null,
   "id": "da6bd4de",
   "metadata": {},
   "outputs": [],
   "source": [
    "#Customers with a lower education level have a higher median Customer Lifetime Value, the males have a higher value\n",
    "# than the females. The highest Customer Lifetime Value is for males with high school or below and the lowest\n",
    "# is for males with bachelor. "
   ]
  },
  {
   "cell_type": "markdown",
   "id": "b42999f9-311f-481e-ae63-40a5577072c5",
   "metadata": {
    "id": "b42999f9-311f-481e-ae63-40a5577072c5"
   },
   "source": [
    "## Bonus"
   ]
  },
  {
   "cell_type": "markdown",
   "id": "81ff02c5-6584-4f21-a358-b918697c6432",
   "metadata": {
    "id": "81ff02c5-6584-4f21-a358-b918697c6432"
   },
   "source": [
    "5. The marketing team wants to analyze the number of policies sold by state and month. Present the data in a table where the months are arranged as columns and the states are arranged as rows."
   ]
  },
  {
   "cell_type": "markdown",
   "id": "b6aec097-c633-4017-a125-e77a97259cda",
   "metadata": {
    "id": "b6aec097-c633-4017-a125-e77a97259cda"
   },
   "source": [
    "6.  Display a new DataFrame that contains the number of policies sold by month, by state, for the top 3 states with the highest number of policies sold.\n",
    "\n",
    "*Hint:*\n",
    "- *To accomplish this, you will first need to group the data by state and month, then count the number of policies sold for each group. Afterwards, you will need to sort the data by the count of policies sold in descending order.*\n",
    "- *Next, you will select the top 3 states with the highest number of policies sold.*\n",
    "- *Finally, you will create a new DataFrame that contains the number of policies sold by month for each of the top 3 states.*"
   ]
  },
  {
   "cell_type": "markdown",
   "id": "ba975b8a-a2cf-4fbf-9f59-ebc381767009",
   "metadata": {
    "id": "ba975b8a-a2cf-4fbf-9f59-ebc381767009"
   },
   "source": [
    "7. The marketing team wants to analyze the effect of different marketing channels on the customer response rate.\n",
    "\n",
    "Hint: You can use melt to unpivot the data and create a table that shows the customer response rate (those who responded \"Yes\") by marketing channel."
   ]
  },
  {
   "cell_type": "markdown",
   "id": "e4378d94-48fb-4850-a802-b1bc8f427b2d",
   "metadata": {
    "id": "e4378d94-48fb-4850-a802-b1bc8f427b2d"
   },
   "source": [
    "External Resources for Data Filtering: https://towardsdatascience.com/filtering-data-frames-in-pandas-b570b1f834b9"
   ]
  },
  {
   "cell_type": "code",
   "execution_count": null,
   "id": "449513f4-0459-46a0-a18d-9398d974c9ad",
   "metadata": {
    "id": "449513f4-0459-46a0-a18d-9398d974c9ad"
   },
   "outputs": [],
   "source": [
    "# your code goes here"
   ]
  }
 ],
 "metadata": {
  "colab": {
   "provenance": []
  },
  "kernelspec": {
   "display_name": "Python 3 (ipykernel)",
   "language": "python",
   "name": "python3"
  },
  "language_info": {
   "codemirror_mode": {
    "name": "ipython",
    "version": 3
   },
   "file_extension": ".py",
   "mimetype": "text/x-python",
   "name": "python",
   "nbconvert_exporter": "python",
   "pygments_lexer": "ipython3",
   "version": "3.11.5"
  }
 },
 "nbformat": 4,
 "nbformat_minor": 5
}
